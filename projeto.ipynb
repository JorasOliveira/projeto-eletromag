{
 "cells": [
  {
   "cell_type": "markdown",
   "metadata": {},
   "source": [
    "# Projeto de Eletromagnetismo e Ondulatória - (Wireless Power Transfer) - WPT\n"
   ]
  },
  {
   "cell_type": "markdown",
   "metadata": {},
   "source": [
    "## Diagrama do modelo eletrodinâmico do circuito\n",
    "\n",
    "<img src=\"/circuito.png\" alt=\"MarineGEO circle logo\" style=\"height: 100px; width:100px;\"/>"
   ]
  },
  {
   "cell_type": "markdown",
   "metadata": {},
   "source": [
    "![efw](circuito.png)"
   ]
  },
  {
   "cell_type": "markdown",
   "metadata": {},
   "source": [
    "## Importações"
   ]
  },
  {
   "cell_type": "code",
   "execution_count": 5,
   "metadata": {},
   "outputs": [],
   "source": [
    "from cmath import *\n",
    "from math import sqrt, pow, pi\n",
    "import numpy as np\n",
    "import matplotlib.pyplot as plt"
   ]
  },
  {
   "cell_type": "markdown",
   "metadata": {},
   "source": [
    "## Funções"
   ]
  },
  {
   "cell_type": "markdown",
   "metadata": {},
   "source": [
    "A função `CalculaTransformador` recebe os parâmetros do circuito e nos retornas as correntes no transformador primário e no secundário"
   ]
  },
  {
   "cell_type": "code",
   "execution_count": 30,
   "metadata": {},
   "outputs": [],
   "source": [
    "def CalcularTransformador(Uf, Rc, k, R1, L1, C1, p):\n",
    "    # Tensão da fonte (pico) = Uf\n",
    "\n",
    "    # Coeficiente de acoplamento = k\n",
    "\n",
    "    # Indutâncias\n",
    "    L2 = L1\n",
    "\n",
    "    # Resistências\n",
    "    R2 = R1\n",
    "\n",
    "    # Capacitâncias\n",
    "    C2 = C1\n",
    "\n",
    "    # Frequência\n",
    "    f = 60\n",
    "\n",
    "    # Frequência angular\n",
    "    w = 2*pi*f\n",
    "    \n",
    "\n",
    "    # Ressonância\n",
    "    wr = 1/sqrt(L1*C1)\n",
    "    \n",
    "    \n",
    "    # Indutância mútua\n",
    "    M = k * sqrt(L1*L2)\n",
    "    \n",
    "\n",
    "    # Reatâncias do transformador\n",
    "    XL1 = 1j*w*L1\n",
    "    XL2 = 1j*w*L2\n",
    "    \n",
    "    XC1 = 1/1j*w*C1\n",
    "    XC2 = 1/1j*w*C2\n",
    "    \n",
    "    XM = 1j*w*M\n",
    "    \n",
    "    if p:\n",
    "        print(f\"A Indutäncia Mútua M:{M} Henry\")\n",
    "        print(f\"A frequência de ressonancia Wr é: {wr} Rad/s\")\n",
    "        print(f\"A frequência angular W é: {w} Rad/s\")\n",
    "        print(f\"Reatancia do indutor: {XL1}\")\n",
    "        print(f\"Reatancia do capacitor: {XC1}\")\n",
    "        print(f\"Reatancia dos transformadores: {XM}\")\n",
    "\n",
    "        print(f\"-\"*30)\n",
    "\n",
    "    # Impedância Equivalente\n",
    "    Z = np.array([[XC1 + R1 + XL1, -XM], [-XM, XL1 + R2 + ( (1/XC2 + 1/Rc) **(-1) ) ]])\n",
    "    # Tensão em forma fasorial\n",
    "    V = np.array([Uf,0])\n",
    "    # i trata-se de uma tupla com os valores fasorias de i1 e i2\n",
    "    i = np.dot(np.linalg.inv(Z),V)\n",
    "    \n",
    "    return i[0], i[1]\n"
   ]
  },
  {
   "cell_type": "markdown",
   "metadata": {},
   "source": [
    "## Declarações das variáveis"
   ]
  },
  {
   "cell_type": "markdown",
   "metadata": {},
   "source": [
    "***Calculando*** as ***correntes 1 e 2**"
   ]
  },
  {
   "cell_type": "code",
   "execution_count": 32,
   "metadata": {},
   "outputs": [
    {
     "name": "stdout",
     "output_type": "stream",
     "text": [
      "A Indutäncia Mútua M:0.03 Henry\n",
      "A frequência de ressonancia Wr é: 1825.7418583505537 Rad/s\n",
      "A frequência angular W é: 376.99111843077515 Rad/s\n",
      "Reatancia do indutor: 113.09733552923254j\n",
      "Reatancia do capacitor: -0.00037699111843077514j\n",
      "Reatancia dos transformadores: 11.309733552923253j\n",
      "------------------------------\n",
      "i1: (0.00020140958696880933-0.04465550373411434j)\n",
      "i2: (3.988244616217e-05-0.0044653889389075305j)\n"
     ]
    }
   ],
   "source": [
    "\n",
    "# Entradas da função: Uf(volts), Rc(ohms), k, R1(ohms), L1(Henry), C1(Henry)\n",
    "Uf = 5      # Tensão da fonte (pico)\n",
    "Rc = 5      # Resistência do capacitor\n",
    "k = 0.1     # Coeficiente de acoplamento\n",
    "R1 = 0.5    # Resistência do resistor\n",
    "L1 = 300e-3 # Indutância do indutor1\n",
    "L2 = L1     # Indutância do indutor2\n",
    "C1 = 1e-6   # Capacitância dos capacitores\n",
    "#print = true\n",
    "# --------------------------- Cálculo das Correntes -------------------------- #\n",
    "i1, i2 = CalcularTransformador(Uf, Rc, k, R1, L1, C1, True)\n",
    "print(f\"i1: {i1}\")\n",
    "print(f\"i2: {i2}\")\n",
    "\n"
   ]
  },
  {
   "cell_type": "markdown",
   "metadata": {},
   "source": [
    "***Calculando*** a tensao ***v2***, ***correntes*** e ***tensoes*** de ***picos***, ***relacao v1/v2*** e as ***potencias***\n"
   ]
  },
  {
   "cell_type": "code",
   "execution_count": 23,
   "metadata": {},
   "outputs": [
    {
     "name": "stdout",
     "output_type": "stream",
     "text": [
      "Com resistor na saída de 5.00 Ω:\n",
      "i1 (pico) = 0.04 A\n",
      "i2 (pico) = 0.00 A\n",
      "V1 (pico) = 5.00 V\n",
      "V2 (pico) = 0.02 V\n",
      "Relação V1/V2 = 223.94\n",
      "Potência real = 0.00\n"
     ]
    }
   ],
   "source": [
    "# ------------------------------ Tensão de Saída ----------------------------- #\n",
    "v2 = i2 * Rc\n",
    "\n",
    "print('Com resistor na saída de %.2f Ω:' %Rc)\n",
    "print('i1 (pico) = %.2f A' %np.abs(i1))\n",
    "print('i2 (pico) = %.2f A' %np.abs(i2))\n",
    "print('V1 (pico) = %.2f V' %Uf)\n",
    "print('V2 (pico) = %.2f V' %(np.abs(v2)))\n",
    "print('Relação V1/V2 = %.2f' %(np.abs(Uf/(v2))))\n",
    "\n",
    "# Potências:\n",
    "S2 = v2 * i2.conjugate()/2\n",
    "print('Potência real = %.2f' %(S2.real))"
   ]
  },
  {
   "cell_type": "markdown",
   "metadata": {},
   "source": [
    "***Parte 3*** da etapa 1"
   ]
  },
  {
   "cell_type": "code",
   "execution_count": null,
   "metadata": {},
   "outputs": [],
   "source": []
  },
  {
   "cell_type": "markdown",
   "metadata": {},
   "source": [
    "***Parte 4*** da etapa 1"
   ]
  },
  {
   "cell_type": "code",
   "execution_count": null,
   "metadata": {},
   "outputs": [],
   "source": []
  },
  {
   "cell_type": "markdown",
   "metadata": {},
   "source": [
    "***Parte 5*** da etapa 1"
   ]
  },
  {
   "cell_type": "code",
   "execution_count": 33,
   "metadata": {},
   "outputs": [
    {
     "data": {
      "image/png": "[encoded data removed]",
      "text/plain": [
       "<Figure size 432x288 with 1 Axes>"
      ]
     },
     "metadata": {
      "needs_background": "light"
     },
     "output_type": "display_data"
    }
   ],
   "source": [
    "#Construção de um gráfico que relacione o valor de pico da tensão no secundário (no resistor RC) com o coeficiente de acoplamento\n",
    "K=np.linspace(0,1,1000)\n",
    "V2=[]\n",
    "f = 60 # Frequencia fixa\n",
    "w = 2 * pi * f\n",
    "\n",
    "\n",
    "\n",
    "for k in K:\n",
    "    m = k*sqrt(L1*L2)\n",
    "    xm = 1j*w*m\n",
    "    i1, i2 = CalcularTransformador(Uf, Rc, k, R1, L1, C1, False)\n",
    "    V2.append(abs(Rc*i2))\n",
    "    \n",
    "plt.plot(K,V2)\n",
    "plt.xlabel(\"Coeficiente de acoplamento $k$\")\n",
    "plt.ylabel(\"Tensão $V_2$ [V]\")\n",
    "plt.grid(True)\n",
    "plt.show()"
   ]
  },
  {
   "cell_type": "code",
   "execution_count": null,
   "metadata": {},
   "outputs": [],
   "source": []
  }
 ],
 "metadata": {
  "interpreter": {
   "hash": "df6bf6cc6217196fc806bc8fa3333610b1fd51ffb90a88f5682e17c0bb0cd411"
  },
  "kernelspec": {
   "display_name": "Python 3.10.4 64-bit (windows store)",
   "language": "python",
   "name": "python3"
  },
  "language_info": {
   "codemirror_mode": {
    "name": "ipython",
    "version": 3
   },
   "file_extension": ".py",
   "mimetype": "text/x-python",
   "name": "python",
   "nbconvert_exporter": "python",
   "pygments_lexer": "ipython3",
   "version": "3.10.4"
  },
  "orig_nbformat": 4
 },
 "nbformat": 4,
 "nbformat_minor": 2
}
