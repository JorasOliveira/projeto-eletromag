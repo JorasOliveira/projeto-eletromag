{
 "cells": [
  {
   "cell_type": "markdown",
   "metadata": {},
   "source": [
    "# Diagrama do modelo eletrodinâmico do circuito"
   ]
  },
  {
   "cell_type": "markdown",
   "metadata": {},
   "source": [
    "<img src=\"circuito.png\" alt=\"Diagrama do circuito\" style=\"height: 100px; width:100px;\"/>"
   ]
  },
  {
   "cell_type": "markdown",
   "metadata": {},
   "source": [
    "##Setups"
   ]
  },
  {
   "cell_type": "markdown",
   "metadata": {},
   "source": [
    "## Importações"
   ]
  },
  {
   "cell_type": "code",
   "execution_count": 35,
   "metadata": {},
   "outputs": [],
   "source": [
    "from cmath import *\n",
    "from math import sqrt, pow, pi\n",
    "import numpy as np\n",
    "import matplotlib.pyplot as plt"
   ]
  },
  {
   "cell_type": "markdown",
   "metadata": {},
   "source": [
    "## Funções"
   ]
  },
  {
   "cell_type": "markdown",
   "metadata": {},
   "source": [
    "A função `CalculaTransformador` recebe os parâmetros do circuito e nos retornas as correntes no transformador primário e no secundário"
   ]
  },
  {
   "cell_type": "code",
   "execution_count": 57,
   "metadata": {},
   "outputs": [],
   "source": [
    "def CalcularTransformador(Uf, Rc, k, f, R1, L1, C1, p):\n",
    "  # Tensão da fonte (pico) = Uf   # Coeficiente de acoplamento = k\n",
    "   # Indutâncias\n",
    "    L2 = L1\n",
    "\n",
    "    #Resistências\n",
    "    R2 = R1\n",
    "\n",
    "    # Cacitâncias\n",
    "    C2 = C1\n",
    "\n",
    "    # Freqncia\n",
    "    #f\n",
    "\n",
    "    # Frequêna angular\n",
    "    w = 2*pi*f\n",
    "    \n",
    "\n",
    "    # Ressonancia \n",
    "    wr = 1/sqrt(L1*C1)\n",
    "    \n",
    "    \n",
    "    # Indutancia    \n",
    "    M = k * sqrt(L1*L2)\n",
    "    \n",
    "\n",
    "   # Reatâncias dormador\n",
    "    XL1 = 1j*w*L1\n",
    "    XL2 = 1j*w*L2\n",
    "    \n",
    "    XC1 = 1/1j*w*C1\n",
    "    XC2 = 1/1j*w*C2\n",
    "    \n",
    "    XM = 1j*w*M\n",
    "    \n",
    "    if p:    \n",
    "      # Reatâncias da Indutância mútua\n",
    "      print(f\"A Indutäncia Mútua M:{M} Henry\")\n",
    "      print(f\"A frequência de ressonancia Wr é: {wr} Rad/s\")\n",
    "      print(f\"A frequência angular W é: {w} Rad/s\")\n",
    "      print(f\"Reatancia do indutor: {XL1}\")\n",
    "      print(f\"Reatancia do capacitor: {XC1}\")\n",
    "      print(f\"Reatancia dos transformadores: {XM}\")\n",
    "      print(f\"-\"*30)\n",
    "\n",
    "    # Impedância Equivalente\n",
    "    Z = np.array([[XC1 + R1 + XL1, -XM], [-XM, XL1 + R2 + ( (1/XC2 + 1/Rc) **(-1) ) ]])\n",
    "    # Tensão em forma fasorial\n",
    "    V = np.array([Uf,0])\n",
    "    # i trata-se de uma tupla com os valores fasorias de i1 e i2\n",
    "    i = np.dot(np.linalg.inv(Z),V)\n",
    "    \n",
    "    return i[0], i[1]\n"
   ]
  },
  {
   "cell_type": "markdown",
   "metadata": {},
   "source": [
    "## Declarações das variáveis"
   ]
  },
  {
   "cell_type": "code",
   "execution_count": 68,
   "metadata": {},
   "outputs": [],
   "source": [
    "\n",
    "# Entradas da função: Uf(volts), Rc(ohms), k, R1(ohms), L1(Henry), C1(Henry)\n",
    "Uf = 20      # Tensão da fonte (pico)\n",
    "Rc = 5      # Resistência do capacitor\n",
    "k = 0.1     # Coeficiente de acoplamento\n",
    "f = 60      # frequencia da fonte\n",
    "R1 = 0.5    # Resistência do resistor\n",
    "L1 = 300e-3 # Indutância do indutor1\n",
    "L2 = L1     # Indutância do indutor2\n",
    "C1 = 1e-6   # Capacitância dos capacitores\n"
   ]
  },
  {
   "cell_type": "markdown",
   "metadata": {},
   "source": [
    "# Cálculos"
   ]
  },
  {
   "cell_type": "markdown",
   "metadata": {},
   "source": [
    "## Cálculo de $I_1$ e $I_2$"
   ]
  },
  {
   "cell_type": "code",
   "execution_count": 71,
   "metadata": {},
   "outputs": [
    {
     "name": "stdout",
     "output_type": "stream",
     "text": [
      "A Indutäncia Mútua M:0.03 Henry\n",
      "A frequência de ressonancia Wr é: 1825.7418583505537 Rad/s\n",
      "A frequência angular W é: 6.283185307179586 Rad/s\n",
      "Reatancia do indutor: 1.8849555921538759j\n",
      "Reatancia do capacitor: -6.283185307179586e-06j\n",
      "Reatancia dos transformadores: 0.18849555921538758j\n",
      "------------------------------\n",
      "i1: (2.697589022601516-9.98137244432661j)\n",
      "i2: (0.49938758378418-0.8656734592121493j)\n"
     ]
    }
   ],
   "source": [
    "i1, i2 = CalcularTransformador(Uf, Rc, k, f, R1, L1, C1, True)\n",
    "print(f\"i1: {i1}\")\n",
    "print(f\"i2: {i2}\")"
   ]
  },
  {
   "cell_type": "markdown",
   "metadata": {},
   "source": [
    "## Cálculos Adicionais"
   ]
  },
  {
   "cell_type": "markdown",
   "metadata": {},
   "source": [
    "Cálculo de:\n",
    "- Tensão $V_2$ (Tensão de Saída)\n",
    "- Correntes e tensões de pico\n",
    "- Relação $\\frac{V_1}{V_2}$\n",
    "- Potências"
   ]
  },
  {
   "cell_type": "code",
   "execution_count": 70,
   "metadata": {},
   "outputs": [
    {
     "name": "stdout",
     "output_type": "stream",
     "text": [
      "Com resistor na saída de 5.00 Ω:\n",
      "i1 (pico) = 10.34 A\n",
      "i2 (pico) = 1.00 A\n",
      "V1 (pico) = 20.00 V\n",
      "V2 (pico) = 5.00 V\n",
      "Relação V1/V2 = 4.00\n"
     ]
    }
   ],
   "source": [
    "# ------------------------------ Tensão de Saída ----------------------------- #\n",
    "v2 = i2 * Rc\n",
    "\n",
    "print('Com resistor na saída de %.2f Ω:' %Rc)\n",
    "print('i1 (pico) = %.2f A' %np.abs(i1))\n",
    "print('i2 (pico) = %.2f A' %np.abs(i2))\n",
    "print('V1 (pico) = %.2f V' %Uf)\n",
    "print('V2 (pico) = %.2f V' %(np.abs(v2)))\n",
    "print('Relação V1/V2 = %.2f' %(np.abs(Uf/(v2))))\n",
    "\n"
   ]
  },
  {
   "cell_type": "markdown",
   "metadata": {},
   "source": [
    "# Gráficos"
   ]
  },
  {
   "cell_type": "markdown",
   "metadata": {},
   "source": [
    "## Gráfico de $I_1$ e $I_2$ em função da frequência "
   ]
  },
  {
   "cell_type": "code",
   "execution_count": 85,
   "metadata": {},
   "outputs": [
    {
     "name": "stdout",
     "output_type": "stream",
     "text": [
      "modulos das correntes em funcão da frequência da fonte de um k = 1.0\n"
     ]
    },
    {
     "data": {
      "image/png": "[encoded data removed]",
      "text/plain": [
       "<Figure size 432x288 with 1 Axes>"
      ]
     },
     "metadata": {
      "needs_background": "light"
     },
     "output_type": "display_data"
    },
    {
     "name": "stdout",
     "output_type": "stream",
     "text": [
      "Corrente máxima I1 = 20.005242046202184 para uma frequencia de 10.0\n",
      "------------------------------\n",
      "Corrente máxima I2 = 19.998274334610418 para uma frequencia de 10.0\n"
     ]
    }
   ],
   "source": [
    "#Construção de gráficos de I1 e I2 em função da frequência:\n",
    "#Frequencia que vai de 10hz - 100khz\n",
    "F = np.linspace(10,100000,10)\n",
    "I1 = []\n",
    "I2 = []\n",
    "print(\"modulos das correntes em funcão da frequência da fonte de um k = {}\".format(k))\n",
    "\n",
    "#Uf, Rc, k, f, R1, L1, C1, p\n",
    "max_i1 = 0\n",
    "max_i2 = 0\n",
    "\n",
    "for f in F:\n",
    "    i1, i2 = CalcularTransformador(Uf, Rc, k, f, R1, L1, C1, False)\n",
    "    mod_i1 = abs(i1)\n",
    "    mod_i2 = abs(i2)\n",
    "\n",
    "    I1.append(mod_i1)\n",
    "    I2.append(mod_i2)\n",
    "\n",
    "    if mod_i1 > max_i1:\n",
    "        max_i1 = mod_i1\n",
    "        f_max_i1 = f\n",
    "\n",
    "    if mod_i2 > max_i2:\n",
    "        max_i2 = mod_i2\n",
    "        f_max_i2 = f\n",
    "\n",
    "\n",
    "\n",
    "\n",
    "    \n",
    "\n",
    "plt.plot(F, I1, label = \"corrente I1\", color = \"b\")\n",
    "plt.plot(F, I2, label = \"corrente I2\", color = \"r\")\n",
    "plt.title(\"Módulo das correntes em função das correntes\")\n",
    "plt.xlabel(\"Frequência $f$\")\n",
    "plt.ylabel(\"Corrente $I_1 I_2$ [A]\")\n",
    "plt.grid(True)\n",
    "plt.show()\n",
    "\n",
    "print(\"Corrente máxima I1 = {} para uma frequencia de {}\".format(max_i1, f_max_i1))\n",
    "print(\"-\"*30)\n",
    "print(\"Corrente máxima I2 = {} para uma frequencia de {}\".format(max_i2, f_max_i2))\n",
    "\n",
    "\n",
    "\n",
    "    \n"
   ]
  },
  {
   "cell_type": "markdown",
   "metadata": {},
   "source": [
    "## Gráfico de Potência e Eficiência em função da frequência"
   ]
  },
  {
   "cell_type": "code",
   "execution_count": 88,
   "metadata": {},
   "outputs": [
    {
     "name": "stdout",
     "output_type": "stream",
     "text": [
      "modulos das correntes em funcão da frequência da fonte de um k = 1.0\n"
     ]
    },
    {
     "data": {
      "image/png": "[encoded data removed]",
      "text/plain": [
       "<Figure size 432x288 with 1 Axes>"
      ]
     },
     "metadata": {
      "needs_background": "light"
     },
     "output_type": "display_data"
    },
    {
     "name": "stdout",
     "output_type": "stream",
     "text": [
      "200.05242046202184\n"
     ]
    },
    {
     "ename": "TypeError",
     "evalue": "'numpy.ndarray' object is not callable",
     "output_type": "error",
     "traceback": [
      "\u001b[1;31m---------------------------------------------------------------------------\u001b[0m",
      "\u001b[1;31mTypeError\u001b[0m                                 Traceback (most recent call last)",
      "\u001b[1;32mc:\\Users\\joras\\OneDrive - Insper - Institudo de Ensino e Pesquisa\\Desktop\\desktop\\INSPER\\4-Semestre\\EletroMag\\projeto\\projeto-eletromag\\projeto.ipynb Cell 21'\u001b[0m in \u001b[0;36m<cell line: 36>\u001b[1;34m()\u001b[0m\n\u001b[0;32m     <a href='vscode-notebook-cell:/c%3A/Users/joras/OneDrive%20-%20Insper%20-%20Institudo%20de%20Ensino%20e%20Pesquisa/Desktop/desktop/INSPER/4-Semestre/EletroMag/projeto/projeto-eletromag/projeto.ipynb#ch0000023?line=33'>34</a>\u001b[0m S1_max \u001b[39m=\u001b[39m \u001b[39mmax\u001b[39m(L_s1)\n\u001b[0;32m     <a href='vscode-notebook-cell:/c%3A/Users/joras/OneDrive%20-%20Insper%20-%20Institudo%20de%20Ensino%20e%20Pesquisa/Desktop/desktop/INSPER/4-Semestre/EletroMag/projeto/projeto-eletromag/projeto.ipynb#ch0000023?line=34'>35</a>\u001b[0m \u001b[39mprint\u001b[39m(S1_max)\n\u001b[1;32m---> <a href='vscode-notebook-cell:/c%3A/Users/joras/OneDrive%20-%20Insper%20-%20Institudo%20de%20Ensino%20e%20Pesquisa/Desktop/desktop/INSPER/4-Semestre/EletroMag/projeto/projeto-eletromag/projeto.ipynb#ch0000023?line=35'>36</a>\u001b[0m \u001b[39mprint\u001b[39m(F(L_s1\u001b[39m.\u001b[39;49mindex(S1_max)))\n",
      "\u001b[1;31mTypeError\u001b[0m: 'numpy.ndarray' object is not callable"
     ]
    }
   ],
   "source": [
    "#Construção de gráficos das potências e da eficiência em função da frequência:\n",
    "\n",
    "# Criando um vetor para variar a frequência de 10hz - 100khz\n",
    "F = np.linspace(10,100000,10)\n",
    "L_s1 = [] \n",
    "L_s2 = [] \n",
    "print(\"modulos das correntes em funcão da frequência da fonte de um k = {}\".format(k))\n",
    "\n",
    "for f in F:\n",
    "    i1, i2 = CalcularTransformador(Uf, Rc, k, f, R1, L1, C1, False)\n",
    "\n",
    "    # Potências:\n",
    "    S1 = Uf * i1.conjugate()/2\n",
    "    # print('Potência real = %.2f' %(S1.real))\n",
    "\n",
    "    S2 = v2 * i2.conjugate()/2\n",
    "    # print('Potência real = %.2f' %(S2.real))\n",
    "\n",
    "    L_s1.append(abs(S1))\n",
    "    L_s2.append(abs(S2))\n",
    "\n",
    "plt.plot(F, L_s1, label = \"S1\")\n",
    "plt.legend()\n",
    "\n",
    "plt.plot(F, L_s2, label = \"S2\")\n",
    "plt.legend()\n",
    "\n",
    "plt.xlabel(\"Frequencia\")\n",
    "plt.ylabel(\"Potencia\")\n",
    "\n",
    "plt.grid(True)\n",
    "plt.show()\n",
    "\n",
    "# S1_max = max(L_s1)\n",
    "# print(S1_max)\n",
    "# print(F(L_s1.index(S1_max)))\n",
    "# f_max1 = F(L_s1.index(S1_max))\n",
    "# print(f\"potencia 1 maxima de {S1_max} para frequencia de {f_max1}\")\n",
    "\n",
    "\n"
   ]
  },
  {
   "cell_type": "markdown",
   "metadata": {},
   "source": [
    "## Gráfico da Tensão de Pico no Secundário em Função do Coeficiente de Acoplamento"
   ]
  },
  {
   "cell_type": "code",
   "execution_count": 82,
   "metadata": {},
   "outputs": [
    {
     "data": {
      "image/png": "[encoded data removed]",
      "text/plain": [
       "<Figure size 432x288 with 1 Axes>"
      ]
     },
     "metadata": {
      "needs_background": "light"
     },
     "output_type": "display_data"
    }
   ],
   "source": [
    "#Construção de um gráfico que relacione o valor de pico da tensão no secundário (no resistor RC) com o coeficiente de acoplamento\n",
    "K=np.linspace(0,1,1000)\n",
    "V2=[]\n",
    "f = 60 # Frequencia fixa\n",
    "w = 2 * pi * f\n",
    "\n",
    "\n",
    "for k in K:\n",
    "    m = k*sqrt(L1*L2)\n",
    "    xm = 1j*w*m\n",
    "    i1, i2 = CalcularTransformador(Uf, Rc, k, f, R1, L1, C1, False)\n",
    "    V2.append(abs(Rc*i2))\n",
    "    \n",
    "plt.plot(K,V2)\n",
    "plt.xlabel(\"Coeficiente de acoplamento $k$\")\n",
    "plt.ylabel(\"Tensão $V_2$ [V]\")\n",
    "plt.grid(True)\n",
    "plt.show()"
   ]
  },
  {
   "cell_type": "code",
   "execution_count": null,
   "metadata": {},
   "outputs": [],
   "source": []
  }
 ],
 "metadata": {
  "interpreter": {
   "hash": "df6bf6cc6217196fc806bc8fa3333610b1fd51ffb90a88f5682e17c0bb0cd411"
  },
  "kernelspec": {
   "display_name": "Python 3.10.4 64-bit (windows store)",
   "language": "python",
   "name": "python3"
  },
  "language_info": {
   "codemirror_mode": {
    "name": "ipython",
    "version": 3
   },
   "file_extension": ".py",
   "mimetype": "text/x-python",
   "name": "python",
   "nbconvert_exporter": "python",
   "pygments_lexer": "ipython3",
   "version": "3.10.4"
  },
  "orig_nbformat": 4
 },
 "nbformat": 4,
 "nbformat_minor": 2
}
