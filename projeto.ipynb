{
 "cells": [
  {
   "cell_type": "markdown",
   "metadata": {},
   "source": [
    "## Projeto de Eletromagnetismo e Ondulatória\n",
    "### Transmissão de Energia sem fio (Wireless Power Transfer) - WPT\n"
   ]
  },
  {
   "cell_type": "code",
   "execution_count": null,
   "metadata": {},
   "outputs": [],
   "source": [
    "from cmath import *\n",
    "from math import sqrt, pow\n",
    "import numpy as np\n",
    "import matplotlib.pyplot as plt"
   ]
  },
  {
   "cell_type": "code",
   "execution_count": null,
   "metadata": {},
   "outputs": [],
   "source": [
    "# Função\n",
    "def CalcularTransformador(Uf, Rc, k, R1, L1, C1):\n",
    "    \"\"\"\n",
    "    Função que calcula as correntes do primário e do secundário\n",
    "    \"\"\"\n",
    "    # Tensão da fonte (pico) = Uf\n",
    "\n",
    "    # Coeficiente de acoplamento = k\n",
    "\n",
    "    # Indutâncias\n",
    "    L2 = L1\n",
    "\n",
    "    # Resistências\n",
    "    R2 = R1\n",
    "\n",
    "    # Capacitâncias\n",
    "    C2 = C1\n",
    "\n",
    "    # Frequência\n",
    "    f = 60\n",
    "\n",
    "    # Frequência angular\n",
    "    w = 2*pi*f\n",
    "    print(f\"A frequência angular W é: {w} Rad/s\")\n",
    "\n",
    "    # Ressonância\n",
    "    wr = 1/sqrt(L1*C1)\n",
    "    print(f\"A frequência de ressonancia Wr é: {wr} Rad/s\")\n",
    "    \n",
    "    # Indutância mútua\n",
    "    M = k * sqrt(L1*L2)\n",
    "    print(f\"A Indutäncia Mútua M:{M} Henry\")\n",
    "\n",
    "    # Reatâncias do transformador\n",
    "    XL1 = 1j*w*L1\n",
    "    XL2 = 1j*w*L2\n",
    "    \n",
    "    XC1 = 1/1j*w*C1\n",
    "    XC2 = 1/1j*w*C2\n",
    "    \n",
    "    XM = 1j*w*M\n",
    "\n",
    "    print(f\"Reatancia do indutor: {XL1}\")\n",
    "    print(f\"Reatancia do capacitor: {XC1}\")\n",
    "    print(f\"Reatancia dos transformadores: {XM}\")\n",
    "\n",
    "    print(f\"-\"*30)\n",
    "\n",
    "    \"\"\"\n",
    "    Para encontrar as correntes do circuito, tendo as impedâncias e as tensões, podemos utilizar a\n",
    "    lei de ohm U = R * i para a relação entre as matrizes das tensões, das impedâncias e das correntes:\n",
    "\n",
    "    V = Z * i\n",
    "    [Uf, 0] = [[XC1 + R1 + XL1, -XM], [-XM, XL1 + R2 + (1/XC2 + 1/Rc)]] * [i1, i2]\n",
    "\n",
    "    i = Z^-1 * V\n",
    "    \"\"\"\n",
    "\n",
    "    # Impedância Equivalente\n",
    "    Z = np.array([[XC1 + R1 + XL1, -XM], [-XM, XL1 + R2 + pow((1/XC2 + 1/Rc), 1)]])\n",
    "    # Tensão em forma fasorial\n",
    "    V = np.array([Uf,0])\n",
    "    # i trata-se de uma tupla com os valores fasorias de i1 e i2\n",
    "    i = np.dot(np.linalg.inv(Z),V)\n",
    "    \n",
    "    return i[0], i[1]\n"
   ]
  },
  {
   "cell_type": "code",
   "execution_count": null,
   "metadata": {},
   "outputs": [],
   "source": [
    "# --------------------------------- Entradas --------------------------------- #\n",
    "# Entradas da função: Uf(volts), Rc(ohms), k, R1(ohms), L1(Henry), C1(Henry)\n",
    "Uf = 5      # Tensão da fonte (pico)\n",
    "Rc = 5      # Resistência do capacitor\n",
    "k = 0.1     # Coeficiente de acoplamento\n",
    "R1 = 0.5    # Resistência do resistor\n",
    "L1 = 300e-3 # Indutância do indutor1\n",
    "L2 = L1     # Indutância do indutor2\n",
    "C1 = 1e-6   # Capacitância dos capacitores\n",
    "# --------------------------- Cálculo das Correntes -------------------------- #\n",
    "i1, i2 = CalcularTransformador(Uf, Rc, k, R1, L1, C1)\n",
    "print(f\"i1: {i1}\")\n",
    "print(f\"i2: {i2}\")\n",
    "\n",
    "# ------------------------------ Tensão de Saída ----------------------------- #\n",
    "v2 = i2 * Rc\n",
    "\n",
    "print('Com resistor na saída de %.2f Ω:' %Rc)\n",
    "print('i1 (pico) = %.2f A' %np.abs(i1))\n",
    "print('i2 (pico) = %.2f A' %np.abs(i2))\n",
    "print('V1 (pico) = %.2f V' %Uf)\n",
    "print('V2 (pico) = %.2f V' %(np.abs(v2)))\n",
    "print('Relação V1/V2 = %.2f' %(np.abs(Uf/(v2))))\n",
    "\n",
    "# Potências:\n",
    "S2 = v2 * i2.conjugate()/2\n",
    "print('Potência real = %.2f' %(S2.real))"
   ]
  },
  {
   "cell_type": "code",
   "execution_count": null,
   "metadata": {},
   "outputs": [],
   "source": []
  }
 ],
 "metadata": {
  "interpreter": {
   "hash": "9ca3a3f76260332a83825220c60efd53c66ee74005a62660f23900a504079fe0"
  },
  "kernelspec": {
   "display_name": "Python 3.10.4 64-bit (windows store)",
   "language": "python",
   "name": "python3"
  },
  "language_info": {
   "name": "python",
   "version": "3.10.4"
  },
  "orig_nbformat": 4
 },
 "nbformat": 4,
 "nbformat_minor": 2
}
