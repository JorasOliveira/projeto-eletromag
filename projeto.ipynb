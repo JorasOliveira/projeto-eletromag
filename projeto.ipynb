{
 "cells": [
  {
   "cell_type": "markdown",
   "metadata": {},
   "source": [
    "## Projeto de Eletromagnetismo e Ondulatória\n",
    "### Transmissão de Energia sem fio (Wireless Power Transfer) - WPT\n"
   ]
  }
 ],
 "metadata": {
  "interpreter": {
   "hash": "9ca3a3f76260332a83825220c60efd53c66ee74005a62660f23900a504079fe0"
  },
  "kernelspec": {
   "display_name": "Python 3.10.4 64-bit (windows store)",
   "language": "python",
   "name": "python3"
  },
  "language_info": {
   "name": "python",
   "version": "3.10.4"
  },
  "orig_nbformat": 4
 },
 "nbformat": 4,
 "nbformat_minor": 2
}
