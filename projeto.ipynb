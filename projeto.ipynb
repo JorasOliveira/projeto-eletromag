{
 "cells": [
  {
   "cell_type": "markdown",
   "metadata": {},
   "source": [
    "# Projeto de Eletromagnetismo e Ondulatória - (Wireless Power Transfer) - WPT\n"
   ]
  },
  {
   "cell_type": "markdown",
   "metadata": {},
   "source": [
    "## Diagrama do modelo eletrodinâmico do circuito\n",
    "\n",
    "![Diagrama do Circuito](/imgs/circuito.png)"
   ]
  },
  {
   "cell_type": "markdown",
   "metadata": {},
   "source": [
    "## Importações"
   ]
  },
  {
   "cell_type": "code",
   "execution_count": 1,
   "metadata": {},
   "outputs": [],
   "source": [
    "from cmath import *\n",
    "from math import sqrt, pow, pi\n",
    "import numpy as np\n",
    "import matplotlib.pyplot as plt"
   ]
  },
  {
   "cell_type": "markdown",
   "metadata": {},
   "source": [
    "## Funções"
   ]
  },
  {
   "cell_type": "markdown",
   "metadata": {},
   "source": [
    "A função `CalculaTransformador` recebe os parâmetros do circuito e nos retornas as correntes no transformador primário e no secundário"
   ]
  },
  {
   "cell_type": "code",
   "execution_count": 2,
   "metadata": {},
   "outputs": [],
   "source": [
    "def CalcularTransformador(Uf, Rc, k, R1, L1, C1):\n",
    "    # Tensão da fonte (pico) = Uf\n",
    "\n",
    "    # Coeficiente de acoplamento = k\n",
    "\n",
    "    # Indutâncias\n",
    "    L2 = L1\n",
    "\n",
    "    # Resistências\n",
    "    R2 = R1\n",
    "\n",
    "    # Capacitâncias\n",
    "    C2 = C1\n",
    "\n",
    "    # Frequência\n",
    "    f = 60\n",
    "\n",
    "    # Frequência angular\n",
    "    w = 2*pi*f\n",
    "    print(f\"A frequência angular W é: {w} Rad/s\")\n",
    "\n",
    "    # Ressonância\n",
    "    wr = 1/sqrt(L1*C1)\n",
    "    print(f\"A frequência de ressonancia Wr é: {wr} Rad/s\")\n",
    "    \n",
    "    # Indutância mútua\n",
    "    M = k * sqrt(L1*L2)\n",
    "    print(f\"A Indutäncia Mútua M:{M} Henry\")\n",
    "\n",
    "    # Reatâncias do transformador\n",
    "    XL1 = 1j*w*L1\n",
    "    XL2 = 1j*w*L2\n",
    "    \n",
    "    XC1 = 1/1j*w*C1\n",
    "    XC2 = 1/1j*w*C2\n",
    "    \n",
    "    XM = 1j*w*M\n",
    "\n",
    "    print(f\"Reatancia do indutor: {XL1}\")\n",
    "    print(f\"Reatancia do capacitor: {XC1}\")\n",
    "    print(f\"Reatancia dos transformadores: {XM}\")\n",
    "\n",
    "    print(f\"-\"*30)\n",
    "\n",
    "    # Impedância Equivalente\n",
    "    Z = np.array([[XC1 + R1 + XL1, -XM], [-XM, XL1 + R2 + pow((1/XC2 + 1/Rc), 1)]])\n",
    "    # Tensão em forma fasorial\n",
    "    V = np.array([Uf,0])\n",
    "    # i trata-se de uma tupla com os valores fasorias de i1 e i2\n",
    "    i = np.dot(np.linalg.inv(Z),V)\n",
    "    \n",
    "    return i[0], i[1]\n"
   ]
  },
  {
   "cell_type": "markdown",
   "metadata": {},
   "source": [
    "## Declarações das variáveis"
   ]
  },
  {
   "cell_type": "markdown",
   "metadata": {},
   "source": [
    "***Calculando*** as ***correntes 1 e 2**"
   ]
  },
  {
   "cell_type": "code",
   "execution_count": 3,
   "metadata": {},
   "outputs": [
    {
     "name": "stdout",
     "output_type": "stream",
     "text": [
      "A frequência angular W é: 376.99111843077515 Rad/s\n",
      "A frequência de ressonancia Wr é: 1825.7418583505537 Rad/s\n",
      "A Indutäncia Mútua M:0.03 Henry\n",
      "Reatancia do indutor: 113.09733552923254j\n",
      "Reatancia do capacitor: -0.00037699111843077514j\n",
      "Reatancia dos transformadores: 11.309733552923253j\n",
      "------------------------------\n"
     ]
    },
    {
     "ename": "TypeError",
     "evalue": "must be real number, not complex",
     "output_type": "error",
     "traceback": [
      "\u001b[1;31m---------------------------------------------------------------------------\u001b[0m",
      "\u001b[1;31mTypeError\u001b[0m                                 Traceback (most recent call last)",
      "\u001b[1;32mc:\\Users\\joras\\OneDrive - Insper - Institudo de Ensino e Pesquisa\\Desktop\\desktop\\INSPER\\4-Semestre\\EletroMag\\projeto\\projeto-eletromag\\projeto.ipynb Cell 10'\u001b[0m in \u001b[0;36m<cell line: 10>\u001b[1;34m()\u001b[0m\n\u001b[0;32m      <a href='vscode-notebook-cell:/c%3A/Users/joras/OneDrive%20-%20Insper%20-%20Institudo%20de%20Ensino%20e%20Pesquisa/Desktop/desktop/INSPER/4-Semestre/EletroMag/projeto/projeto-eletromag/projeto.ipynb#ch0000003?line=7'>8</a>\u001b[0m C1 \u001b[39m=\u001b[39m \u001b[39m1e-6\u001b[39m   \u001b[39m# Capacitância dos capacitores\u001b[39;00m\n\u001b[0;32m      <a href='vscode-notebook-cell:/c%3A/Users/joras/OneDrive%20-%20Insper%20-%20Institudo%20de%20Ensino%20e%20Pesquisa/Desktop/desktop/INSPER/4-Semestre/EletroMag/projeto/projeto-eletromag/projeto.ipynb#ch0000003?line=8'>9</a>\u001b[0m \u001b[39m# --------------------------- Cálculo das Correntes -------------------------- #\u001b[39;00m\n\u001b[1;32m---> <a href='vscode-notebook-cell:/c%3A/Users/joras/OneDrive%20-%20Insper%20-%20Institudo%20de%20Ensino%20e%20Pesquisa/Desktop/desktop/INSPER/4-Semestre/EletroMag/projeto/projeto-eletromag/projeto.ipynb#ch0000003?line=9'>10</a>\u001b[0m i1, i2 \u001b[39m=\u001b[39m CalcularTransformador(Uf, Rc, k, R1, L1, C1)\n\u001b[0;32m     <a href='vscode-notebook-cell:/c%3A/Users/joras/OneDrive%20-%20Insper%20-%20Institudo%20de%20Ensino%20e%20Pesquisa/Desktop/desktop/INSPER/4-Semestre/EletroMag/projeto/projeto-eletromag/projeto.ipynb#ch0000003?line=10'>11</a>\u001b[0m \u001b[39mprint\u001b[39m(\u001b[39mf\u001b[39m\u001b[39m\"\u001b[39m\u001b[39mi1: \u001b[39m\u001b[39m{\u001b[39;00mi1\u001b[39m}\u001b[39;00m\u001b[39m\"\u001b[39m)\n\u001b[0;32m     <a href='vscode-notebook-cell:/c%3A/Users/joras/OneDrive%20-%20Insper%20-%20Institudo%20de%20Ensino%20e%20Pesquisa/Desktop/desktop/INSPER/4-Semestre/EletroMag/projeto/projeto-eletromag/projeto.ipynb#ch0000003?line=11'>12</a>\u001b[0m \u001b[39mprint\u001b[39m(\u001b[39mf\u001b[39m\u001b[39m\"\u001b[39m\u001b[39mi2: \u001b[39m\u001b[39m{\u001b[39;00mi2\u001b[39m}\u001b[39;00m\u001b[39m\"\u001b[39m)\n",
      "\u001b[1;32mc:\\Users\\joras\\OneDrive - Insper - Institudo de Ensino e Pesquisa\\Desktop\\desktop\\INSPER\\4-Semestre\\EletroMag\\projeto\\projeto-eletromag\\projeto.ipynb Cell 7'\u001b[0m in \u001b[0;36mCalcularTransformador\u001b[1;34m(Uf, Rc, k, R1, L1, C1)\u001b[0m\n\u001b[0;32m     <a href='vscode-notebook-cell:/c%3A/Users/joras/OneDrive%20-%20Insper%20-%20Institudo%20de%20Ensino%20e%20Pesquisa/Desktop/desktop/INSPER/4-Semestre/EletroMag/projeto/projeto-eletromag/projeto.ipynb#ch0000002?line=42'>43</a>\u001b[0m \u001b[39mprint\u001b[39m(\u001b[39mf\u001b[39m\u001b[39m\"\u001b[39m\u001b[39m-\u001b[39m\u001b[39m\"\u001b[39m\u001b[39m*\u001b[39m\u001b[39m30\u001b[39m)\n\u001b[0;32m     <a href='vscode-notebook-cell:/c%3A/Users/joras/OneDrive%20-%20Insper%20-%20Institudo%20de%20Ensino%20e%20Pesquisa/Desktop/desktop/INSPER/4-Semestre/EletroMag/projeto/projeto-eletromag/projeto.ipynb#ch0000002?line=44'>45</a>\u001b[0m \u001b[39m# Impedância Equivalente\u001b[39;00m\n\u001b[1;32m---> <a href='vscode-notebook-cell:/c%3A/Users/joras/OneDrive%20-%20Insper%20-%20Institudo%20de%20Ensino%20e%20Pesquisa/Desktop/desktop/INSPER/4-Semestre/EletroMag/projeto/projeto-eletromag/projeto.ipynb#ch0000002?line=45'>46</a>\u001b[0m Z \u001b[39m=\u001b[39m np\u001b[39m.\u001b[39marray([[XC1 \u001b[39m+\u001b[39m R1 \u001b[39m+\u001b[39m XL1, \u001b[39m-\u001b[39mXM], [\u001b[39m-\u001b[39mXM, XL1 \u001b[39m+\u001b[39m R2 \u001b[39m+\u001b[39m \u001b[39mpow\u001b[39;49m((\u001b[39m1\u001b[39;49m\u001b[39m/\u001b[39;49mXC2 \u001b[39m+\u001b[39;49m \u001b[39m1\u001b[39;49m\u001b[39m/\u001b[39;49mRc), \u001b[39m1\u001b[39;49m)]])\n\u001b[0;32m     <a href='vscode-notebook-cell:/c%3A/Users/joras/OneDrive%20-%20Insper%20-%20Institudo%20de%20Ensino%20e%20Pesquisa/Desktop/desktop/INSPER/4-Semestre/EletroMag/projeto/projeto-eletromag/projeto.ipynb#ch0000002?line=46'>47</a>\u001b[0m \u001b[39m# Tensão em forma fasorial\u001b[39;00m\n\u001b[0;32m     <a href='vscode-notebook-cell:/c%3A/Users/joras/OneDrive%20-%20Insper%20-%20Institudo%20de%20Ensino%20e%20Pesquisa/Desktop/desktop/INSPER/4-Semestre/EletroMag/projeto/projeto-eletromag/projeto.ipynb#ch0000002?line=47'>48</a>\u001b[0m V \u001b[39m=\u001b[39m np\u001b[39m.\u001b[39marray([Uf,\u001b[39m0\u001b[39m])\n",
      "\u001b[1;31mTypeError\u001b[0m: must be real number, not complex"
     ]
    }
   ],
   "source": [
    "\n",
    "# Entradas da função: Uf(volts), Rc(ohms), k, R1(ohms), L1(Henry), C1(Henry)\n",
    "Uf = 5      # Tensão da fonte (pico)\n",
    "Rc = 5      # Resistência do capacitor\n",
    "k = 0.1     # Coeficiente de acoplamento\n",
    "R1 = 0.5    # Resistência do resistor\n",
    "L1 = 300e-3 # Indutância do indutor1\n",
    "L2 = L1     # Indutância do indutor2\n",
    "C1 = 1e-6   # Capacitância dos capacitores\n",
    "# --------------------------- Cálculo das Correntes -------------------------- #\n",
    "i1, i2 = CalcularTransformador(Uf, Rc, k, R1, L1, C1)\n",
    "print(f\"i1: {i1}\")\n",
    "print(f\"i2: {i2}\")\n",
    "\n"
   ]
  },
  {
   "cell_type": "markdown",
   "metadata": {},
   "source": [
    "***Calculando*** a tensao ***v2***, ***correntes*** e ***tensoes*** de ***picos***, ***relacao v1/v2*** e as ***potencias***\n"
   ]
  },
  {
   "cell_type": "code",
   "execution_count": null,
   "metadata": {},
   "outputs": [],
   "source": [
    "# ------------------------------ Tensão de Saída ----------------------------- #\n",
    "v2 = i2 * Rc\n",
    "\n",
    "print('Com resistor na saída de %.2f Ω:' %Rc)\n",
    "print('i1 (pico) = %.2f A' %np.abs(i1))\n",
    "print('i2 (pico) = %.2f A' %np.abs(i2))\n",
    "print('V1 (pico) = %.2f V' %Uf)\n",
    "print('V2 (pico) = %.2f V' %(np.abs(v2)))\n",
    "print('Relação V1/V2 = %.2f' %(np.abs(Uf/(v2))))\n",
    "\n",
    "# Potências:\n",
    "S2 = v2 * i2.conjugate()/2\n",
    "print('Potência real = %.2f' %(S2.real))"
   ]
  },
  {
   "cell_type": "code",
   "execution_count": null,
   "metadata": {},
   "outputs": [],
   "source": [
    "K=np.linspace(0,1,1000)\n",
    "V2=[]\n",
    "f = 60\n",
    "w = 2 * pi * f\n",
    "\n",
    "for k in K:\n",
    "    m=k*sqrt(L1*L2)\n",
    "    xm=1j*w*m\n",
    "    i1, i2 = CalcularTransformador(Uf, Rc)\n",
    "    V2.append(abs(Rc*i2))\n",
    "    \n",
    "plt.plot(K,V2)\n",
    "plt.xlabel(\"Coeficiente de acoplamento $k$\")\n",
    "plt.ylabel(\"Tensão $V_2$ [V]\")\n",
    "plt.grid(True)\n",
    "plt.show()"
   ]
  }
 ],
 "metadata": {
  "interpreter": {
   "hash": "df6bf6cc6217196fc806bc8fa3333610b1fd51ffb90a88f5682e17c0bb0cd411"
  },
  "kernelspec": {
   "display_name": "Python 3.10.4 64-bit (windows store)",
   "language": "python",
   "name": "python3"
  },
  "language_info": {
   "codemirror_mode": {
    "name": "ipython",
    "version": 3
   },
   "file_extension": ".py",
   "mimetype": "text/x-python",
   "name": "python",
   "nbconvert_exporter": "python",
   "pygments_lexer": "ipython3",
   "version": "3.10.4"
  },
  "orig_nbformat": 4
 },
 "nbformat": 4,
 "nbformat_minor": 2
}
